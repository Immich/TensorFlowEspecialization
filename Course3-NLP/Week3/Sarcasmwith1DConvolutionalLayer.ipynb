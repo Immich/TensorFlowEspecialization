{
  "nbformat": 4,
  "nbformat_minor": 0,
  "metadata": {
    "accelerator": "GPU",
    "colab": {
      "name": "Sarcasmwith1DConvolutionalLayer.ipynb",
      "provenance": [],
      "collapsed_sections": [],
      "toc_visible": true
    },
    "kernelspec": {
      "display_name": "Python 3",
      "language": "python",
      "name": "python3"
    },
    "language_info": {
      "codemirror_mode": {
        "name": "ipython",
        "version": 3
      },
      "file_extension": ".py",
      "mimetype": "text/x-python",
      "name": "python",
      "nbconvert_exporter": "python",
      "pygments_lexer": "ipython3",
      "version": "3.7.6"
    }
  },
  "cells": [
    {
      "cell_type": "code",
      "metadata": {
        "colab_type": "code",
        "id": "zX4Kg8DUTKWO",
        "colab": {}
      },
      "source": [
        "#@title Licensed under the Apache License, Version 2.0 (the \"License\");\n",
        "# you may not use this file except in compliance with the License.\n",
        "# You may obtain a copy of the License at\n",
        "#\n",
        "# https://www.apache.org/licenses/LICENSE-2.0\n",
        "#\n",
        "# Unless required by applicable law or agreed to in writing, software\n",
        "# distributed under the License is distributed on an \"AS IS\" BASIS,\n",
        "# WITHOUT WARRANTIES OR CONDITIONS OF ANY KIND, either express or implied.\n",
        "# See the License for the specific language governing permissions and\n",
        "# limitations under the License."
      ],
      "execution_count": null,
      "outputs": []
    },
    {
      "cell_type": "markdown",
      "metadata": {
        "id": "Dw8FobB68yxd",
        "colab_type": "text"
      },
      "source": [
        "<a href=\"https://colab.research.google.com/github/lmoroney/dlaicourse/blob/master/TensorFlow%20In%20Practice/Course%203%20-%20NLP/Course%203%20-%20Week%203%20-%20Lesson%202c.ipynb\" target=\"_parent\"><img src=\"https://colab.research.google.com/assets/colab-badge.svg\" alt=\"Open In Colab\"/></a>"
      ]
    },
    {
      "cell_type": "markdown",
      "metadata": {
        "id": "d3qUuhy-1DXA",
        "colab_type": "text"
      },
      "source": [
        "# Sarcasm with 1D Convolutional Layer"
      ]
    },
    {
      "cell_type": "code",
      "metadata": {
        "colab_type": "code",
        "id": "jGwXGIXvFhXW",
        "colab": {
          "base_uri": "https://localhost:8080/",
          "height": 1000
        },
        "outputId": "5071c68f-6ac7-463b-8314-c2f8cdbc24f5"
      },
      "source": [
        "import numpy as np\n",
        "\n",
        "import json\n",
        "import tensorflow as tf\n",
        "\n",
        "from tensorflow.keras.preprocessing.text import Tokenizer\n",
        "from tensorflow.keras.preprocessing.sequence import pad_sequences\n",
        "\n",
        "!wget --no-check-certificate \\\n",
        "    https://storage.googleapis.com/laurencemoroney-blog.appspot.com/sarcasm.json \\\n",
        "    -O /tmp/sarcasm.json\n",
        "\n",
        "vocab_size = 1000\n",
        "embedding_dim = 16\n",
        "max_length = 120\n",
        "trunc_type = 'post'\n",
        "padding_type = 'post'\n",
        "oov_tok = \"<OOV>\"\n",
        "training_size = 20000\n",
        "\n",
        "\n",
        "with open(\"/tmp/sarcasm.json\", 'r') as f:\n",
        "    datastore = json.load(f)\n",
        "\n",
        "\n",
        "sentences = []\n",
        "labels = []\n",
        "urls = []\n",
        "for item in datastore:\n",
        "    sentences.append(item['headline'])\n",
        "    labels.append(item['is_sarcastic'])\n",
        "\n",
        "training_sentences = sentences[0:training_size]\n",
        "testing_sentences = sentences[training_size:]\n",
        "training_labels = labels[0:training_size]\n",
        "testing_labels = labels[training_size:]\n",
        "\n",
        "tokenizer = Tokenizer(num_words = vocab_size, oov_token = oov_tok)\n",
        "tokenizer.fit_on_texts(training_sentences)\n",
        "\n",
        "word_index = tokenizer.word_index\n",
        "\n",
        "training_sequences = tokenizer.texts_to_sequences(training_sentences)\n",
        "training_padded = pad_sequences(training_sequences, maxlen = max_length, padding = padding_type, truncating = trunc_type)\n",
        "\n",
        "testing_sequences = tokenizer.texts_to_sequences(testing_sentences)\n",
        "testing_padded = pad_sequences(testing_sequences, maxlen = max_length, padding = padding_type, truncating = trunc_type)\n",
        "\n",
        "model = tf.keras.Sequential([\n",
        "    tf.keras.layers.Embedding(vocab_size, embedding_dim, input_length = max_length),\n",
        "    tf.keras.layers.Conv1D(128, 5, activation = 'relu'),\n",
        "    tf.keras.layers.GlobalMaxPooling1D(),\n",
        "    tf.keras.layers.Dense(24, activation = 'relu'),\n",
        "    tf.keras.layers.Dense(1, activation = 'sigmoid')\n",
        "])\n",
        "model.compile(loss = 'binary_crossentropy', optimizer = 'adam', metrics = ['accuracy'])\n",
        "model.summary()\n",
        "\n",
        "num_epochs = 50\n",
        "\n",
        "training_padded = np.array(training_padded)\n",
        "training_labels = np.array(training_labels)\n",
        "testing_padded = np.array(testing_padded)\n",
        "testing_labels = np.array(testing_labels)\n",
        "\n",
        "history = model.fit(training_padded, training_labels, epochs = num_epochs, validation_data = (testing_padded, testing_labels), verbose = 1)\n"
      ],
      "execution_count": null,
      "outputs": [
        {
          "output_type": "stream",
          "text": [
            "--2020-08-15 12:08:55--  https://storage.googleapis.com/laurencemoroney-blog.appspot.com/sarcasm.json\n",
            "Resolving storage.googleapis.com (storage.googleapis.com)... 74.125.142.128, 74.125.195.128, 2607:f8b0:400e:c03::80, ...\n",
            "Connecting to storage.googleapis.com (storage.googleapis.com)|74.125.142.128|:443... connected.\n",
            "HTTP request sent, awaiting response... 200 OK\n",
            "Length: 5643545 (5.4M) [application/json]\n",
            "Saving to: ‘/tmp/sarcasm.json’\n",
            "\n",
            "\r/tmp/sarcasm.json     0%[                    ]       0  --.-KB/s               \r/tmp/sarcasm.json   100%[===================>]   5.38M  --.-KB/s    in 0.1s    \n",
            "\n",
            "2020-08-15 12:08:55 (44.0 MB/s) - ‘/tmp/sarcasm.json’ saved [5643545/5643545]\n",
            "\n",
            "Model: \"sequential\"\n",
            "_________________________________________________________________\n",
            "Layer (type)                 Output Shape              Param #   \n",
            "=================================================================\n",
            "embedding (Embedding)        (None, 120, 16)           16000     \n",
            "_________________________________________________________________\n",
            "conv1d (Conv1D)              (None, 116, 128)          10368     \n",
            "_________________________________________________________________\n",
            "global_max_pooling1d (Global (None, 128)               0         \n",
            "_________________________________________________________________\n",
            "dense (Dense)                (None, 24)                3096      \n",
            "_________________________________________________________________\n",
            "dense_1 (Dense)              (None, 1)                 25        \n",
            "=================================================================\n",
            "Total params: 29,489\n",
            "Trainable params: 29,489\n",
            "Non-trainable params: 0\n",
            "_________________________________________________________________\n",
            "Epoch 1/50\n",
            "625/625 [==============================] - 3s 4ms/step - loss: 0.4729 - accuracy: 0.7610 - val_loss: 0.4015 - val_accuracy: 0.8174\n",
            "Epoch 2/50\n",
            "625/625 [==============================] - 2s 4ms/step - loss: 0.3563 - accuracy: 0.8399 - val_loss: 0.3905 - val_accuracy: 0.8216\n",
            "Epoch 3/50\n",
            "625/625 [==============================] - 2s 4ms/step - loss: 0.3190 - accuracy: 0.8600 - val_loss: 0.3958 - val_accuracy: 0.8231\n",
            "Epoch 4/50\n",
            "625/625 [==============================] - 2s 4ms/step - loss: 0.2874 - accuracy: 0.8773 - val_loss: 0.4050 - val_accuracy: 0.8195\n",
            "Epoch 5/50\n",
            "625/625 [==============================] - 2s 4ms/step - loss: 0.2553 - accuracy: 0.8940 - val_loss: 0.4212 - val_accuracy: 0.8192\n",
            "Epoch 6/50\n",
            "625/625 [==============================] - 3s 4ms/step - loss: 0.2253 - accuracy: 0.9068 - val_loss: 0.4423 - val_accuracy: 0.8234\n",
            "Epoch 7/50\n",
            "625/625 [==============================] - 2s 4ms/step - loss: 0.1923 - accuracy: 0.9237 - val_loss: 0.4905 - val_accuracy: 0.8104\n",
            "Epoch 8/50\n",
            "625/625 [==============================] - 2s 4ms/step - loss: 0.1647 - accuracy: 0.9357 - val_loss: 0.5401 - val_accuracy: 0.8095\n",
            "Epoch 9/50\n",
            "625/625 [==============================] - 2s 4ms/step - loss: 0.1357 - accuracy: 0.9507 - val_loss: 0.6048 - val_accuracy: 0.8085\n",
            "Epoch 10/50\n",
            "625/625 [==============================] - 2s 4ms/step - loss: 0.1161 - accuracy: 0.9575 - val_loss: 0.6522 - val_accuracy: 0.7998\n",
            "Epoch 11/50\n",
            "625/625 [==============================] - 2s 4ms/step - loss: 0.0954 - accuracy: 0.9670 - val_loss: 0.7310 - val_accuracy: 0.7956\n",
            "Epoch 12/50\n",
            "625/625 [==============================] - 3s 4ms/step - loss: 0.0793 - accuracy: 0.9717 - val_loss: 0.8289 - val_accuracy: 0.7953\n",
            "Epoch 13/50\n",
            "625/625 [==============================] - 2s 4ms/step - loss: 0.0656 - accuracy: 0.9781 - val_loss: 0.9123 - val_accuracy: 0.7909\n",
            "Epoch 14/50\n",
            "625/625 [==============================] - 3s 4ms/step - loss: 0.0565 - accuracy: 0.9800 - val_loss: 1.0668 - val_accuracy: 0.8004\n",
            "Epoch 15/50\n",
            "625/625 [==============================] - 2s 4ms/step - loss: 0.0546 - accuracy: 0.9806 - val_loss: 1.1101 - val_accuracy: 0.7921\n",
            "Epoch 16/50\n",
            "625/625 [==============================] - 2s 4ms/step - loss: 0.0491 - accuracy: 0.9816 - val_loss: 1.1960 - val_accuracy: 0.7864\n",
            "Epoch 17/50\n",
            "625/625 [==============================] - 2s 4ms/step - loss: 0.0466 - accuracy: 0.9824 - val_loss: 1.2358 - val_accuracy: 0.7836\n",
            "Epoch 18/50\n",
            "625/625 [==============================] - 2s 4ms/step - loss: 0.0450 - accuracy: 0.9832 - val_loss: 1.3326 - val_accuracy: 0.7863\n",
            "Epoch 19/50\n",
            "625/625 [==============================] - 2s 4ms/step - loss: 0.0373 - accuracy: 0.9858 - val_loss: 1.3946 - val_accuracy: 0.7825\n",
            "Epoch 20/50\n",
            "625/625 [==============================] - 2s 4ms/step - loss: 0.0371 - accuracy: 0.9855 - val_loss: 1.4962 - val_accuracy: 0.7833\n",
            "Epoch 21/50\n",
            "625/625 [==============================] - 3s 4ms/step - loss: 0.0343 - accuracy: 0.9868 - val_loss: 1.5096 - val_accuracy: 0.7851\n",
            "Epoch 22/50\n",
            "625/625 [==============================] - 3s 4ms/step - loss: 0.0337 - accuracy: 0.9861 - val_loss: 1.5582 - val_accuracy: 0.7866\n",
            "Epoch 23/50\n",
            "625/625 [==============================] - 3s 4ms/step - loss: 0.0311 - accuracy: 0.9872 - val_loss: 1.7170 - val_accuracy: 0.7860\n",
            "Epoch 24/50\n",
            "625/625 [==============================] - 2s 4ms/step - loss: 0.0314 - accuracy: 0.9873 - val_loss: 1.7334 - val_accuracy: 0.7794\n",
            "Epoch 25/50\n",
            "625/625 [==============================] - 3s 4ms/step - loss: 0.0277 - accuracy: 0.9882 - val_loss: 1.8176 - val_accuracy: 0.7846\n",
            "Epoch 26/50\n",
            "625/625 [==============================] - 2s 4ms/step - loss: 0.0271 - accuracy: 0.9886 - val_loss: 1.7882 - val_accuracy: 0.7837\n",
            "Epoch 27/50\n",
            "625/625 [==============================] - 2s 4ms/step - loss: 0.0260 - accuracy: 0.9888 - val_loss: 1.8880 - val_accuracy: 0.7831\n",
            "Epoch 28/50\n",
            "625/625 [==============================] - 2s 4ms/step - loss: 0.0250 - accuracy: 0.9888 - val_loss: 1.9146 - val_accuracy: 0.7803\n",
            "Epoch 29/50\n",
            "625/625 [==============================] - 2s 4ms/step - loss: 0.0314 - accuracy: 0.9863 - val_loss: 1.9493 - val_accuracy: 0.7846\n",
            "Epoch 30/50\n",
            "625/625 [==============================] - 2s 4ms/step - loss: 0.0296 - accuracy: 0.9879 - val_loss: 1.9874 - val_accuracy: 0.7827\n",
            "Epoch 31/50\n",
            "625/625 [==============================] - 2s 4ms/step - loss: 0.0237 - accuracy: 0.9898 - val_loss: 2.0187 - val_accuracy: 0.7810\n",
            "Epoch 32/50\n",
            "625/625 [==============================] - 2s 4ms/step - loss: 0.0196 - accuracy: 0.9916 - val_loss: 2.0392 - val_accuracy: 0.7788\n",
            "Epoch 33/50\n",
            "625/625 [==============================] - 2s 4ms/step - loss: 0.0212 - accuracy: 0.9904 - val_loss: 2.1639 - val_accuracy: 0.7818\n",
            "Epoch 34/50\n",
            "625/625 [==============================] - 2s 4ms/step - loss: 0.0251 - accuracy: 0.9893 - val_loss: 2.1853 - val_accuracy: 0.7795\n",
            "Epoch 35/50\n",
            "625/625 [==============================] - 3s 4ms/step - loss: 0.0351 - accuracy: 0.9857 - val_loss: 2.1309 - val_accuracy: 0.7821\n",
            "Epoch 36/50\n",
            "625/625 [==============================] - 2s 4ms/step - loss: 0.0257 - accuracy: 0.9884 - val_loss: 2.2877 - val_accuracy: 0.7870\n",
            "Epoch 37/50\n",
            "625/625 [==============================] - 2s 4ms/step - loss: 0.0227 - accuracy: 0.9902 - val_loss: 2.2863 - val_accuracy: 0.7849\n",
            "Epoch 38/50\n",
            "625/625 [==============================] - 3s 4ms/step - loss: 0.0191 - accuracy: 0.9919 - val_loss: 2.3246 - val_accuracy: 0.7831\n",
            "Epoch 39/50\n",
            "625/625 [==============================] - 3s 4ms/step - loss: 0.0183 - accuracy: 0.9915 - val_loss: 2.4601 - val_accuracy: 0.7827\n",
            "Epoch 40/50\n",
            "625/625 [==============================] - 2s 4ms/step - loss: 0.0242 - accuracy: 0.9894 - val_loss: 2.3900 - val_accuracy: 0.7708\n",
            "Epoch 41/50\n",
            "625/625 [==============================] - 2s 4ms/step - loss: 0.0271 - accuracy: 0.9885 - val_loss: 2.4019 - val_accuracy: 0.7877\n",
            "Epoch 42/50\n",
            "625/625 [==============================] - 2s 4ms/step - loss: 0.0236 - accuracy: 0.9898 - val_loss: 2.4477 - val_accuracy: 0.7828\n",
            "Epoch 43/50\n",
            "625/625 [==============================] - 3s 4ms/step - loss: 0.0209 - accuracy: 0.9905 - val_loss: 2.5211 - val_accuracy: 0.7857\n",
            "Epoch 44/50\n",
            "625/625 [==============================] - 2s 4ms/step - loss: 0.0243 - accuracy: 0.9897 - val_loss: 2.5223 - val_accuracy: 0.7863\n",
            "Epoch 45/50\n",
            "625/625 [==============================] - 2s 4ms/step - loss: 0.0227 - accuracy: 0.9898 - val_loss: 2.5363 - val_accuracy: 0.7819\n",
            "Epoch 46/50\n",
            "625/625 [==============================] - 2s 4ms/step - loss: 0.0196 - accuracy: 0.9909 - val_loss: 2.6914 - val_accuracy: 0.7793\n",
            "Epoch 47/50\n",
            "625/625 [==============================] - 2s 4ms/step - loss: 0.0194 - accuracy: 0.9913 - val_loss: 2.5924 - val_accuracy: 0.7809\n",
            "Epoch 48/50\n",
            "625/625 [==============================] - 2s 4ms/step - loss: 0.0172 - accuracy: 0.9920 - val_loss: 2.7082 - val_accuracy: 0.7809\n",
            "Epoch 49/50\n",
            "625/625 [==============================] - 2s 4ms/step - loss: 0.0175 - accuracy: 0.9922 - val_loss: 2.7219 - val_accuracy: 0.7874\n",
            "Epoch 50/50\n",
            "625/625 [==============================] - 2s 4ms/step - loss: 0.0310 - accuracy: 0.9868 - val_loss: 2.6881 - val_accuracy: 0.7813\n"
          ],
          "name": "stdout"
        }
      ]
    },
    {
      "cell_type": "code",
      "metadata": {
        "colab_type": "code",
        "id": "g9DC6dmLF8DC",
        "colab": {
          "base_uri": "https://localhost:8080/",
          "height": 542
        },
        "outputId": "46e3f799-bef2-462a-dc11-3eee39cdaa27"
      },
      "source": [
        "import matplotlib.pyplot as plt\n",
        "\n",
        "\n",
        "def plot_graphs(history, string):\n",
        "  plt.plot(history.history[string])\n",
        "  plt.plot(history.history['val_' + string])\n",
        "  plt.xlabel(\"Epochs\")\n",
        "  plt.ylabel(string)\n",
        "  plt.legend([string, 'val_' + string])\n",
        "  plt.show()\n",
        "\n",
        "plot_graphs(history, 'accuracy')\n",
        "plot_graphs(history, 'loss')"
      ],
      "execution_count": null,
      "outputs": [
        {
          "output_type": "display_data",
          "data": {
            "image/png": "[encoded data removed]",
            "text/plain": [
              "<Figure size 432x288 with 1 Axes>"
            ]
          },
          "metadata": {
            "tags": [],
            "needs_background": "light"
          }
        },
        {
          "output_type": "display_data",
          "data": {
            "image/png": "[encoded data removed]",
            "text/plain": [
              "<Figure size 432x288 with 1 Axes>"
            ]
          },
          "metadata": {
            "tags": [],
            "needs_background": "light"
          }
        }
      ]
    },
    {
      "cell_type": "code",
      "metadata": {
        "colab_type": "code",
        "id": "7ZEZIUppGhdi",
        "colab": {}
      },
      "source": [
        "model.save(\"test.h5\")"
      ],
      "execution_count": null,
      "outputs": []
    }
  ]
}